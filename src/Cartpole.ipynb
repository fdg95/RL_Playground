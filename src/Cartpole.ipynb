{
 "cells": [
  {
   "cell_type": "code",
   "execution_count": 6,
   "id": "0cf8b323-10f3-4d50-a317-e79dcbd3da0a",
   "metadata": {},
   "outputs": [],
   "source": [
    "#Load dependencies\n",
    "import gym\n",
    "from collections import namedtuple\n",
    "import numpy as np\n",
    "from tensorboardX import SummaryWriter\n",
    "\n",
    "import torch\n",
    "import torch.nn as nn\n",
    "import torch.optim as optim"
   ]
  },
  {
   "cell_type": "code",
   "execution_count": 4,
   "id": "c200bcac-d705-428f-b6c1-769231856f14",
   "metadata": {},
   "outputs": [],
   "source": [
    "#Define constants\n",
    "HIDDEN_SIZE = 128\n",
    "BATCH_SIZE = 16\n",
    "PERCENTILE = 70"
   ]
  },
  {
   "cell_type": "code",
   "execution_count": 7,
   "id": "4cf315c7-ce1f-4568-9b88-6f9a84ba85bf",
   "metadata": {},
   "outputs": [],
   "source": [
    "#Define our neural network mapping observations to actions\n",
    "class Net(nn.Module):\n",
    "    def __init__(self, obs_size, hidden_size, n_actions):\n",
    "        super(Net, self).__init__()#Call init function of the underlying class to properly initialize Net as a nn.Module\n",
    "        self.net = nn.Sequential(\n",
    "            nn.Linear(obs_size, hidden_size),\n",
    "            nn.ReLU(),\n",
    "            nn.Linear(hidden_size, n_actions)\n",
    "        )\n",
    "\n",
    "    def forward(self, x):\n",
    "        return self.net(x)"
   ]
  },
  {
   "cell_type": "code",
   "execution_count": 8,
   "id": "2775951b-d719-4d43-b905-f4ab10f6e47a",
   "metadata": {},
   "outputs": [],
   "source": [
    "#Episode saves total reward of episode and a list of EpisodeSteps\n",
    "Episode = namedtuple('Episode', field_names=['reward', 'steps'])\n",
    "#EpisodeStep saves the given observation and the action choosen by our net at every step\n",
    "EpisodeStep = namedtuple('EpisodeStep', field_names=['observation', 'action'])"
   ]
  },
  {
   "cell_type": "code",
   "execution_count": 9,
   "id": "2e5c2adc-3f3c-4047-adca-3a63758c09b9",
   "metadata": {},
   "outputs": [],
   "source": [
    "def iterate_batches(env, net, batch_size):\n",
    "    batch = [] #Initialize empty batch_list\n",
    "    episode_reward = 0.0 #Initialize reward of episode\n",
    "    episode_steps = [] #Initalize empty step list\n",
    "    obs, _ = env.reset() #Reset environment\n",
    "    sm = nn.Softmax(dim=1)#Define softmax function\n",
    "    while True:\n",
    "        obs_v = torch.FloatTensor([obs])#Convert observations to tensor with batch_dimension (hence list)\n",
    "        act_probs_v = sm(net(obs_v)) #Apply softmax to NN-output to get probas\n",
    "        act_probs = act_probs_v.data.numpy()[0] #Extract probas by converting to numpy and removing batch_dimension\n",
    "        action = np.random.choice(len(act_probs), p=act_probs) #Choose random action\n",
    "        next_obs, reward, is_terminated, is_truncated, _ = env.step(action) #Make environment step\n",
    "        episode_reward += reward #Accumulate reward for episode\n",
    "        episode_steps.append(EpisodeStep(observation=obs, action=action)) #Log EpisodeStep\n",
    "        if is_terminated or is_truncated:\n",
    "            batch.append(Episode(reward=episode_reward, steps=episode_steps))#Append statistics from entire episode\n",
    "            episode_reward = 0.0 #Reset reward\n",
    "            episode_steps = [] #Reset steps\n",
    "            next_obs, _ = env.reset() #Reset env\n",
    "            if len(batch) == batch_size: #If batch_size is reached\n",
    "                yield batch #Return generator for training\n",
    "                batch = [] #Reset batch\n",
    "        obs = next_obs #Update observation"
   ]
  },
  {
   "cell_type": "code",
   "execution_count": 10,
   "id": "68096212-fb48-430d-9e98-026b89882192",
   "metadata": {},
   "outputs": [],
   "source": [
    "def filter_batch(batch, percentile):\n",
    "    rewards = list(map(lambda s: s.reward, batch))#NOT SURE!!!\n",
    "    reward_bound = np.percentile(rewards, percentile)#Calculate bound of reward\n",
    "    reward_mean = float(np.mean(rewards)) #Calculate mean reward\n",
    "\n",
    "    train_obs = []\n",
    "    train_act = []\n",
    "    for example in batch:\n",
    "        if example.reward < reward_bound: #Only if reward exceeds the bound set by percentile\n",
    "            continue\n",
    "        train_obs.extend(map(lambda step: step.observation, example.steps))\n",
    "        train_act.extend(map(lambda step: step.action, example.steps))\n",
    "\n",
    "    train_obs_v = torch.FloatTensor(train_obs) #Convert observations to tensor\n",
    "    train_act_v = torch.LongTensor(train_act) #Convert actions to tensor\n",
    "    return train_obs_v, train_act_v, reward_bound, reward_mean"
   ]
  },
  {
   "cell_type": "code",
   "execution_count": 11,
   "id": "077daa93-c792-4418-aae6-c873dc1c8b5c",
   "metadata": {},
   "outputs": [
    {
     "name": "stderr",
     "output_type": "stream",
     "text": [
      "/opt/conda/lib/python3.10/site-packages/gym/envs/registration.py:555: UserWarning: \u001b[33mWARN: The environment CartPole-v0 is out of date. You should consider upgrading to version `v1`.\u001b[0m\n",
      "  logger.warn(\n"
     ]
    },
    {
     "name": "stdout",
     "output_type": "stream",
     "text": [
      "Number of actions: 2\n"
     ]
    },
    {
     "name": "stderr",
     "output_type": "stream",
     "text": [
      "/tmp/ipykernel_24/1921783845.py:8: UserWarning: Creating a tensor from a list of numpy.ndarrays is extremely slow. Please consider converting the list to a single numpy.ndarray with numpy.array() before converting to a tensor. (Triggered internally at ../torch/csrc/utils/tensor_new.cpp:278.)\n",
      "  obs_v = torch.FloatTensor([obs])#Convert observations to tensor with batch_dimension (hence list)\n",
      "/opt/conda/lib/python3.10/site-packages/gym/utils/passive_env_checker.py:233: DeprecationWarning: `np.bool8` is a deprecated alias for `np.bool_`.  (Deprecated NumPy 1.24)\n",
      "  if not isinstance(terminated, (bool, np.bool8)):\n"
     ]
    },
    {
     "name": "stdout",
     "output_type": "stream",
     "text": [
      "0: loss=0.708, reward_mean=20.7, reward_bound=22.5\n",
      "1: loss=0.689, reward_mean=27.7, reward_bound=35.5\n",
      "2: loss=0.672, reward_mean=24.5, reward_bound=31.5\n",
      "3: loss=0.663, reward_mean=26.7, reward_bound=25.0\n",
      "4: loss=0.647, reward_mean=33.8, reward_bound=39.0\n",
      "5: loss=0.647, reward_mean=28.0, reward_bound=31.0\n",
      "6: loss=0.632, reward_mean=39.4, reward_bound=40.5\n",
      "7: loss=0.614, reward_mean=43.4, reward_bound=52.5\n",
      "8: loss=0.618, reward_mean=49.1, reward_bound=54.0\n",
      "9: loss=0.600, reward_mean=56.6, reward_bound=64.0\n",
      "10: loss=0.612, reward_mean=58.8, reward_bound=61.0\n",
      "11: loss=0.611, reward_mean=40.9, reward_bound=47.0\n",
      "12: loss=0.588, reward_mean=58.0, reward_bound=71.0\n",
      "13: loss=0.579, reward_mean=52.2, reward_bound=63.5\n",
      "14: loss=0.564, reward_mean=68.6, reward_bound=82.0\n",
      "15: loss=0.588, reward_mean=61.9, reward_bound=70.0\n",
      "16: loss=0.557, reward_mean=70.6, reward_bound=90.0\n",
      "17: loss=0.575, reward_mean=59.7, reward_bound=77.0\n",
      "18: loss=0.567, reward_mean=63.8, reward_bound=65.5\n",
      "19: loss=0.577, reward_mean=84.8, reward_bound=97.5\n",
      "20: loss=0.546, reward_mean=67.7, reward_bound=74.5\n",
      "21: loss=0.568, reward_mean=82.1, reward_bound=98.5\n",
      "22: loss=0.547, reward_mean=85.8, reward_bound=91.5\n",
      "23: loss=0.527, reward_mean=76.5, reward_bound=90.0\n",
      "24: loss=0.546, reward_mean=89.7, reward_bound=97.0\n",
      "25: loss=0.548, reward_mean=96.7, reward_bound=99.0\n",
      "26: loss=0.529, reward_mean=107.8, reward_bound=122.0\n",
      "27: loss=0.543, reward_mean=84.8, reward_bound=82.5\n",
      "28: loss=0.528, reward_mean=87.9, reward_bound=92.5\n",
      "29: loss=0.525, reward_mean=87.8, reward_bound=97.5\n",
      "30: loss=0.533, reward_mean=103.8, reward_bound=132.0\n",
      "31: loss=0.530, reward_mean=97.5, reward_bound=121.0\n",
      "32: loss=0.530, reward_mean=102.0, reward_bound=110.0\n",
      "33: loss=0.557, reward_mean=104.9, reward_bound=118.5\n",
      "34: loss=0.534, reward_mean=139.4, reward_bound=175.5\n",
      "35: loss=0.524, reward_mean=169.7, reward_bound=200.0\n",
      "36: loss=0.519, reward_mean=180.8, reward_bound=200.0\n",
      "37: loss=0.525, reward_mean=180.4, reward_bound=200.0\n",
      "38: loss=0.524, reward_mean=189.6, reward_bound=200.0\n",
      "39: loss=0.518, reward_mean=183.2, reward_bound=200.0\n",
      "40: loss=0.522, reward_mean=188.0, reward_bound=200.0\n",
      "41: loss=0.521, reward_mean=175.6, reward_bound=200.0\n",
      "42: loss=0.519, reward_mean=192.1, reward_bound=200.0\n",
      "43: loss=0.523, reward_mean=193.4, reward_bound=200.0\n",
      "44: loss=0.514, reward_mean=188.9, reward_bound=200.0\n",
      "45: loss=0.526, reward_mean=200.0, reward_bound=200.0\n",
      "Solved!\n"
     ]
    }
   ],
   "source": [
    "env = gym.make(\"CartPole-v0\")\n",
    "# env = gym.wrappers.Monitor(env, directory=\"mon\", force=True)\n",
    "obs_size = env.observation_space.shape[0]\n",
    "n_actions = env.action_space.n\n",
    "print(f\"Number of actions: {n_actions}\")\n",
    "\n",
    "net = Net(obs_size, HIDDEN_SIZE, n_actions)\n",
    "objective = nn.CrossEntropyLoss()\n",
    "optimizer = optim.Adam(params=net.parameters(), lr=0.01)\n",
    "writer = SummaryWriter(comment=\"-cartpole\")\n",
    "\n",
    "for iter_no, batch in enumerate(iterate_batches(env, net, BATCH_SIZE)):\n",
    "    obs_v, acts_v, reward_b, reward_m = filter_batch(batch, PERCENTILE)\n",
    "    optimizer.zero_grad()\n",
    "    action_scores_v = net(obs_v)\n",
    "    loss_v = objective(action_scores_v, acts_v)\n",
    "    loss_v.backward()\n",
    "    optimizer.step()\n",
    "    print(\"%d: loss=%.3f, reward_mean=%.1f, reward_bound=%.1f\" % (\n",
    "        iter_no, loss_v.item(), reward_m, reward_b))\n",
    "    writer.add_scalar(\"loss\", loss_v.item(), iter_no)\n",
    "    writer.add_scalar(\"reward_bound\", reward_b, iter_no)\n",
    "    writer.add_scalar(\"reward_mean\", reward_m, iter_no)\n",
    "    if reward_m > 199:\n",
    "        print(\"Solved!\")\n",
    "        break\n",
    "writer.close()"
   ]
  },
  {
   "cell_type": "code",
   "execution_count": 12,
   "id": "b95cfd17-d4fc-4b5c-b75c-9f6991eb8182",
   "metadata": {},
   "outputs": [
    {
     "data": {
      "text/html": [
       "\n",
       "      <iframe id=\"tensorboard-frame-25aa4f8cd5e5df26\" width=\"100%\" height=\"800\" frameborder=\"0\">\n",
       "      </iframe>\n",
       "      <script>\n",
       "        (function() {\n",
       "          const frame = document.getElementById(\"tensorboard-frame-25aa4f8cd5e5df26\");\n",
       "          const url = new URL(\"/\", window.location);\n",
       "          const port = 6006;\n",
       "          if (port) {\n",
       "            url.port = port;\n",
       "          }\n",
       "          frame.src = url;\n",
       "        })();\n",
       "      </script>\n",
       "    "
      ],
      "text/plain": [
       "<IPython.core.display.HTML object>"
      ]
     },
     "metadata": {},
     "output_type": "display_data"
    }
   ],
   "source": [
    "%load_ext tensorboard\n",
    "%tensorboard --logdir=runs --host=0.0.0.0 --port=6006"
   ]
  }
 ],
 "metadata": {
  "kernelspec": {
   "display_name": "Python 3 (ipykernel)",
   "language": "python",
   "name": "python3"
  },
  "language_info": {
   "codemirror_mode": {
    "name": "ipython",
    "version": 3
   },
   "file_extension": ".py",
   "mimetype": "text/x-python",
   "name": "python",
   "nbconvert_exporter": "python",
   "pygments_lexer": "ipython3",
   "version": "3.10.11"
  }
 },
 "nbformat": 4,
 "nbformat_minor": 5
}
